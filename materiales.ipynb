{
  "cells": [
    {
      "cell_type": "raw",
      "metadata": {},
      "source": [
        "---\n",
        "title: \"Materiales del curso\"\n",
        "toc-title: Contenido\n",
        "---"
      ],
      "id": "f45f8894"
    },
    {
      "cell_type": "markdown",
      "metadata": {},
      "source": [
        "```{css}\n",
        "\tbackground-color: #ede7e3;\n",
        "\tpadding: 3px;\n",
        "\tborder-radius: 6px;\n",
        "```\n",
        "\n",
        "\n",
        "## Datos \n",
        "\n",
        "Descargar todos los archivos (datos y scripts) para los ejercicios del curso.\n",
        "\n",
        "[[Descargar datos](archivos-ej/datoscurso.zip)]{style=\"font-size: 1.9rem; background-color: #b46294; \tpadding: 3px;\tborder-radius: 6px;\"}\n",
        "\n",
        "## Presentaciones\n",
        "\n",
        "Estas presentaciones en formato web cuentan con un índice de contenidos interactivo (boton en la esquine inferior izquierda).\n",
        "\n",
        "### Lunes 19\n",
        "[Flujos de Trabajo y Organización de Proyectos ](presentaciones/1-flujos_trabajo.qmd)\n",
        "\n",
        "[Exploración de datos ](presentaciones/1.1-exploracion_rapida_datos.qmd)\n",
        "\n",
        "[Manipulación y Limpieza de datos - I](presentaciones/2-manipulacion_y_limpieza.qmd)\n",
        "\n",
        "### Martes 20\n",
        "\n",
        "[Manipulación y Limpieza de datos - II](presentaciones/2-manipulacion_y_limpieza.qmd)\n",
        "\n",
        "### Miércoles 21\n",
        "\n",
        "[Visualización de Datos](presentaciones/3-visualizacion.qmd)\n",
        "\n",
        "### Jueves 22\n",
        "\n",
        "[Lo que Nunca nos Enseñaron sobre R](presentaciones/4-LQNNESR.qmd)\n",
        "\n",
        "[Manejo de Matrices](presentaciones/4.1-matricesv2.qmd)\n",
        "\n",
        "### Viernes 23\n",
        "\n",
        "[Distribuciones Geográficas](presentaciones/5.0-distribuciones_geograficas.qmd)\n",
        "\n",
        "[Riqueza de Especies](presentaciones/5-gradiente_riqueza.qmd)\n",
        "\n",
        "[Mapas Bivariados](presentaciones/5.1-mapas_bivariados.qmd)\n",
        "\n",
        "[Reglas Ecogeográficas](presentaciones/5.2-regla_ecogeografica.qmd)\n",
        "\n",
        "[Filogenias](presentaciones/5.4-filogenias.qmd)"
      ],
      "id": "ae31fc40"
    }
  ],
  "metadata": {
    "kernelspec": {
      "display_name": "Python 3",
      "language": "python",
      "name": "python3"
    }
  },
  "nbformat": 4,
  "nbformat_minor": 5
}